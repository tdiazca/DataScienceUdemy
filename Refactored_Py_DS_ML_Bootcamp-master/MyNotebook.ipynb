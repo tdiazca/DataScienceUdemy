{
 "cells": [
  {
   "cell_type": "markdown",
   "id": "fc54bb6a-7524-429a-956a-bcac3a33eef4",
   "metadata": {},
   "source": [
    "print('hello')"
   ]
  },
  {
   "cell_type": "code",
   "execution_count": 32,
   "id": "17e33d3d-7924-4c92-b4f0-65b4d6e45adb",
   "metadata": {},
   "outputs": [
    {
     "data": {
      "text/plain": [
       "1"
      ]
     },
     "execution_count": 32,
     "metadata": {},
     "output_type": "execute_result"
    }
   ],
   "source": [
    "1 * 1"
   ]
  },
  {
   "cell_type": "code",
   "execution_count": null,
   "id": "73dc8e3c-77eb-4773-af12-8e28a2f83615",
   "metadata": {},
   "outputs": [],
   "source": []
  },
  {
   "cell_type": "markdown",
   "id": "19640fb4-cb57-45c9-8d3e-495de7fc522e",
   "metadata": {},
   "source": [
    "Note on how to print: print(1*1) **notas Maite**"
   ]
  },
  {
   "cell_type": "code",
   "execution_count": null,
   "id": "bf6c1acd-eb63-4d6f-9184-6be52123fe06",
   "metadata": {},
   "outputs": [],
   "source": []
  },
  {
   "cell_type": "code",
   "execution_count": 35,
   "id": "7e21784f-708b-4e3b-8fad-ff6aa373821e",
   "metadata": {},
   "outputs": [
    {
     "name": "stdout",
     "output_type": "stream",
     "text": [
      "1\n"
     ]
    }
   ],
   "source": [
    "print(1*1)"
   ]
  },
  {
   "cell_type": "code",
   "execution_count": 41,
   "id": "df1fbf81-039d-4d63-9c23-df1d4778eacd",
   "metadata": {},
   "outputs": [],
   "source": [
    "x =[1,2,3,4]"
   ]
  },
  {
   "cell_type": "code",
   "execution_count": 50,
   "id": "b5c48c0e-20e1-4f64-b9fd-bc7d36d0e87a",
   "metadata": {},
   "outputs": [
    {
     "data": {
      "text/plain": [
       "[1, 4, 9, 16]"
      ]
     },
     "execution_count": 50,
     "metadata": {},
     "output_type": "execute_result"
    }
   ],
   "source": [
    "[num**2 for num in x]"
   ]
  },
  {
   "cell_type": "code",
   "execution_count": 56,
   "id": "6e9724f5-9887-421e-80f6-d1941a0e2aab",
   "metadata": {},
   "outputs": [
    {
     "data": {
      "text/plain": [
       "[0, 1, 2, 3, 4, 5, 6, 7, 8, 9]"
      ]
     },
     "execution_count": 56,
     "metadata": {},
     "output_type": "execute_result"
    }
   ],
   "source": [
    "list(range(10))"
   ]
  },
  {
   "cell_type": "code",
   "execution_count": 62,
   "id": "990e1d60-34ca-43a3-9c94-982d8c6f4677",
   "metadata": {},
   "outputs": [],
   "source": [
    "s = 'h'"
   ]
  },
  {
   "cell_type": "code",
   "execution_count": 66,
   "id": "ae1f8f8e-864f-4d8a-8a5f-d346ed5d02a2",
   "metadata": {},
   "outputs": [],
   "source": [
    "s = (1,1)\n"
   ]
  },
  {
   "cell_type": "code",
   "execution_count": 68,
   "id": "c48f7dbd-87a2-410f-99f3-e8339a8c06d9",
   "metadata": {},
   "outputs": [
    {
     "data": {
      "text/plain": [
       "(1, 1)"
      ]
     },
     "execution_count": 68,
     "metadata": {},
     "output_type": "execute_result"
    }
   ],
   "source": [
    "s"
   ]
  }
 ],
 "metadata": {
  "kernelspec": {
   "display_name": "Python 3 (ipykernel)",
   "language": "python",
   "name": "python3"
  },
  "language_info": {
   "codemirror_mode": {
    "name": "ipython",
    "version": 3
   },
   "file_extension": ".py",
   "mimetype": "text/x-python",
   "name": "python",
   "nbconvert_exporter": "python",
   "pygments_lexer": "ipython3",
   "version": "3.12.4"
  }
 },
 "nbformat": 4,
 "nbformat_minor": 5
}
